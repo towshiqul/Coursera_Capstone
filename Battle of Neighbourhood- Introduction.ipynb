{
    "cells": [
        {
            "cell_type": "markdown",
            "metadata": {
                "collapsed": true
            },
            "source": "<h1>Capstone Project - The Battle of the Neighborhoods</h1>\n<h3>Applied Data Science Capstone by IBM/Coursera</h3>"
        },
        {
            "cell_type": "markdown",
            "metadata": {},
            "source": "<h2>Table of contents</h2>\n<li>Introduction: Business Problem</li><li>\nData</li><li>\nMethodology</li><li>\nResults and Discussion</li><li>\nConclusion"
        },
        {
            "cell_type": "markdown",
            "metadata": {},
            "source": "<h1>Introduction: Business Problem</h1>\n\nIn this project, we will compare the neighborhoods of Toronto. Since there are lots of venues in neighborhoods of Toronto we will try to detect which type of venues are more common in Neighborhoods.\n\nWe will use data science to generate a few most promising neighborhoods based on these criteria. The advantages of each area will then be clearly expressed so that the best possible final venue can be chosen by stakeholders."
        },
        {
            "cell_type": "markdown",
            "metadata": {},
            "source": "<h1>Data</h1>\n\nBased on definition of our problem, factors that will influence our decission are:\n\n<li>Number of different types of venues in the neighborhood of Toronto.</li><li>\nVenues which are more common in the neighborhoods of Toronto.</li>\n\n<h3>Following data sources will be needed for analysis of Neighborhoods of Toronto:</h3><br>\n\n<li>For all the information we need to explore and cluster the neighborhoods in Toronto a Wikipedia page exists, here is the link: https://en.wikipedia.org/wiki/List_of_postal_codes_of_Canada:_M.</li><li>\nFor scraping the table, we can simply use pandas to read the table into a pandas dataframe.</li><li>\nFor the geographical coordinates of each postal code, read a csv file (https://cocl.us/Geospatial_data) using pandas dataframe.</li><li>\nexplore the neighborhoods and segment them using Foursquare API"
        },
        {
            "cell_type": "code",
            "execution_count": null,
            "metadata": {},
            "outputs": [],
            "source": ""
        }
    ],
    "metadata": {
        "kernelspec": {
            "display_name": "Python 3.6",
            "language": "python",
            "name": "python3"
        },
        "language_info": {
            "codemirror_mode": {
                "name": "ipython",
                "version": 3
            },
            "file_extension": ".py",
            "mimetype": "text/x-python",
            "name": "python",
            "nbconvert_exporter": "python",
            "pygments_lexer": "ipython3",
            "version": "3.6.9"
        }
    },
    "nbformat": 4,
    "nbformat_minor": 1
}